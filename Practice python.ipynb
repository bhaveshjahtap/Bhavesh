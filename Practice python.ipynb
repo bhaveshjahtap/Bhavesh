{
  "nbformat": 4,
  "nbformat_minor": 0,
  "metadata": {
    "colab": {
      "provenance": [],
      "authorship_tag": "ABX9TyPgbTo+aOUA6LQDW1b/lU8B",
      "include_colab_link": true
    },
    "kernelspec": {
      "name": "python3",
      "display_name": "Python 3"
    },
    "language_info": {
      "name": "python"
    }
  },
  "cells": [
    {
      "cell_type": "markdown",
      "metadata": {
        "id": "view-in-github",
        "colab_type": "text"
      },
      "source": [
        "<a href=\"https://colab.research.google.com/github/bhaveshjahtap/Bhavesh/blob/main/Practice%20python.ipynb\" target=\"_parent\"><img src=\"https://colab.research.google.com/assets/colab-badge.svg\" alt=\"Open In Colab\"/></a>"
      ]
    },
    {
      "cell_type": "code",
      "execution_count": 13,
      "metadata": {
        "colab": {
          "base_uri": "https://localhost:8080/"
        },
        "id": "iFb1KyuPVwZb",
        "outputId": "0d148df2-ddbc-47de-90ef-a5a3b3f59d8e"
      },
      "outputs": [
        {
          "output_type": "stream",
          "name": "stdout",
          "text": [
            "enter a number66\n",
            "the number is positive\n"
          ]
        }
      ],
      "source": [
        "\n",
        "#1detection of positive, negative,zero no\n",
        "num =int(input(\"enter a number\"))\n",
        "if num>0:\n",
        "  print(\"the number is positive\")\n",
        "elif num ==0:\n",
        "  Print(\"the number is zero\")\n",
        "else:\n",
        "  print(\"the number is negative\")"
      ]
    },
    {
      "cell_type": "code",
      "source": [
        "#2 detection of percentage\n",
        "score= int(input(\"Enter the score\"))\n",
        "if score >=90:\n",
        "  print(\"you score grade A+\")\n",
        "elif score>=70:\n",
        "  print(\" you score grade A\")\n",
        "elif score >=60:\n",
        "  print(\"you score grade B\")\n",
        "elif score >=40:\n",
        "  print(\"you score grade C\")\n",
        "else:\n",
        "   print(\"you score F Grade\")"
      ],
      "metadata": {
        "colab": {
          "base_uri": "https://localhost:8080/"
        },
        "id": "UPcx0xK_XlPN",
        "outputId": "b52afb29-7fa6-4271-9212-0cf26c85a662"
      },
      "execution_count": 6,
      "outputs": [
        {
          "output_type": "stream",
          "name": "stdout",
          "text": [
            "Enter the score87\n",
            " you score grade A\n"
          ]
        }
      ]
    },
    {
      "cell_type": "code",
      "source": [
        "#3looping and even number\n",
        "for no in range(45):\n",
        " if no%2==0:\n",
        "  print(no)"
      ],
      "metadata": {
        "colab": {
          "base_uri": "https://localhost:8080/"
        },
        "id": "tIKDuWaKZ8Pw",
        "outputId": "8eacb374-db7a-4c12-9ed5-a17788087861"
      },
      "execution_count": 12,
      "outputs": [
        {
          "output_type": "stream",
          "name": "stdout",
          "text": [
            "0\n",
            "2\n",
            "4\n",
            "6\n",
            "8\n",
            "10\n",
            "12\n",
            "14\n",
            "16\n",
            "18\n",
            "20\n",
            "22\n",
            "24\n",
            "26\n",
            "28\n",
            "30\n",
            "32\n",
            "34\n",
            "36\n",
            "38\n",
            "40\n",
            "42\n",
            "44\n"
          ]
        }
      ]
    },
    {
      "cell_type": "code",
      "source": [
        "#4looping and no divided by 3\n",
        "for no in range (100):\n",
        " if no%3==0:\n",
        "  print(no)"
      ],
      "metadata": {
        "colab": {
          "base_uri": "https://localhost:8080/"
        },
        "id": "-PQJ7Ny5b-IG",
        "outputId": "7d2b4d69-08ac-4aaf-8c83-c290fc78a27b"
      },
      "execution_count": 15,
      "outputs": [
        {
          "output_type": "stream",
          "name": "stdout",
          "text": [
            "0\n",
            "3\n",
            "6\n",
            "9\n",
            "12\n",
            "15\n",
            "18\n",
            "21\n",
            "24\n",
            "27\n",
            "30\n",
            "33\n",
            "36\n",
            "39\n",
            "42\n",
            "45\n",
            "48\n",
            "51\n",
            "54\n",
            "57\n",
            "60\n",
            "63\n",
            "66\n",
            "69\n",
            "72\n",
            "75\n",
            "78\n",
            "81\n",
            "84\n",
            "87\n",
            "90\n",
            "93\n",
            "96\n",
            "99\n"
          ]
        }
      ]
    },
    {
      "cell_type": "code",
      "source": [
        "#5\n",
        "a= float(input(\"Enter a number : \"))\n",
        "if a % 3 == 0 and a % 5 == 0 :\n",
        "    print(\"it is divisible by 3 and 5\")\n",
        "else:\n",
        "    print(\"it is not divisible by 3 and 5\")"
      ],
      "metadata": {
        "colab": {
          "base_uri": "https://localhost:8080/"
        },
        "id": "37cbpx4xck5A",
        "outputId": "83549acf-eb01-47cd-83cb-b376dbfced06"
      },
      "execution_count": 17,
      "outputs": [
        {
          "output_type": "stream",
          "name": "stdout",
          "text": [
            "Enter a number : 78\n",
            "it is not divisible by 3 and 5\n"
          ]
        }
      ]
    }
  ]
}